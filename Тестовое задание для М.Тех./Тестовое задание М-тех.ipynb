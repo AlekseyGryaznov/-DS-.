{
 "cells": [
  {
   "cell_type": "markdown",
   "id": "1c9ac880",
   "metadata": {},
   "source": [
    "***Тестовое задание для вакансии «Младший исследователь данных (DS)***"
   ]
  },
  {
   "cell_type": "markdown",
   "id": "9fa1f5d2",
   "metadata": {},
   "source": [
    "### Откройте файл с данными и изучите общую информацию"
   ]
  },
  {
   "cell_type": "code",
   "execution_count": 1,
   "id": "ef0b65d3",
   "metadata": {},
   "outputs": [
    {
     "name": "stderr",
     "output_type": "stream",
     "text": [
      "/opt/conda/lib/python3.9/site-packages/scipy/__init__.py:155: UserWarning: A NumPy version >=1.18.5 and <1.25.0 is required for this version of SciPy (detected version 1.26.2\n",
      "  warnings.warn(f\"A NumPy version >={np_minversion} and <{np_maxversion}\"\n"
     ]
    }
   ],
   "source": [
    "import pandas as pd\n",
    "import chardet\n",
    "from scipy.stats import ttest_ind\n",
    "from scipy import stats\n",
    "import streamlit as st\n",
    "import matplotlib.pyplot as plt"
   ]
  },
  {
   "cell_type": "markdown",
   "id": "4e09135c",
   "metadata": {},
   "source": [
    "Откроем файл"
   ]
  },
  {
   "cell_type": "code",
   "execution_count": 2,
   "id": "11e64bc1",
   "metadata": {
    "scrolled": false
   },
   "outputs": [
    {
     "name": "stderr",
     "output_type": "stream",
     "text": [
      "/tmp/ipykernel_222/967074628.py:4: ParserWarning: Falling back to the 'python' engine because the 'c' engine does not support regex separators (separators > 1 char and different from '\\s+' are interpreted as regex); you can avoid this warning by specifying engine='python'.\n",
      "  data = pd.read_csv('М.Тех_Данные_к_ТЗ_DS.csv', encoding=result['encoding'], sep=\"\\,\", header=None)\n"
     ]
    },
    {
     "data": {
      "text/html": [
       "<div>\n",
       "<style scoped>\n",
       "    .dataframe tbody tr th:only-of-type {\n",
       "        vertical-align: middle;\n",
       "    }\n",
       "\n",
       "    .dataframe tbody tr th {\n",
       "        vertical-align: top;\n",
       "    }\n",
       "\n",
       "    .dataframe thead th {\n",
       "        text-align: right;\n",
       "    }\n",
       "</style>\n",
       "<table border=\"1\" class=\"dataframe\">\n",
       "  <thead>\n",
       "    <tr style=\"text-align: right;\">\n",
       "      <th></th>\n",
       "      <th>Количество больничных дней</th>\n",
       "      <th>Возраст</th>\n",
       "      <th>Пол</th>\n",
       "    </tr>\n",
       "  </thead>\n",
       "  <tbody>\n",
       "    <tr>\n",
       "      <th>1</th>\n",
       "      <td>5</td>\n",
       "      <td>39</td>\n",
       "      <td>Ж</td>\n",
       "    </tr>\n",
       "    <tr>\n",
       "      <th>2</th>\n",
       "      <td>4</td>\n",
       "      <td>54</td>\n",
       "      <td>М</td>\n",
       "    </tr>\n",
       "    <tr>\n",
       "      <th>3</th>\n",
       "      <td>4</td>\n",
       "      <td>26</td>\n",
       "      <td>М</td>\n",
       "    </tr>\n",
       "    <tr>\n",
       "      <th>4</th>\n",
       "      <td>5</td>\n",
       "      <td>42</td>\n",
       "      <td>М</td>\n",
       "    </tr>\n",
       "    <tr>\n",
       "      <th>5</th>\n",
       "      <td>4</td>\n",
       "      <td>29</td>\n",
       "      <td>М</td>\n",
       "    </tr>\n",
       "    <tr>\n",
       "      <th>...</th>\n",
       "      <td>...</td>\n",
       "      <td>...</td>\n",
       "      <td>...</td>\n",
       "    </tr>\n",
       "    <tr>\n",
       "      <th>233</th>\n",
       "      <td>5</td>\n",
       "      <td>30</td>\n",
       "      <td>М</td>\n",
       "    </tr>\n",
       "    <tr>\n",
       "      <th>234</th>\n",
       "      <td>4</td>\n",
       "      <td>36</td>\n",
       "      <td>Ж</td>\n",
       "    </tr>\n",
       "    <tr>\n",
       "      <th>235</th>\n",
       "      <td>2</td>\n",
       "      <td>60</td>\n",
       "      <td>Ж</td>\n",
       "    </tr>\n",
       "    <tr>\n",
       "      <th>236</th>\n",
       "      <td>2</td>\n",
       "      <td>44</td>\n",
       "      <td>Ж</td>\n",
       "    </tr>\n",
       "    <tr>\n",
       "      <th>237</th>\n",
       "      <td>3</td>\n",
       "      <td>37</td>\n",
       "      <td>М</td>\n",
       "    </tr>\n",
       "  </tbody>\n",
       "</table>\n",
       "<p>237 rows × 3 columns</p>\n",
       "</div>"
      ],
      "text/plain": [
       "0   Количество больничных дней Возраст Пол\n",
       "1                            5      39   Ж\n",
       "2                            4      54   М\n",
       "3                            4      26   М\n",
       "4                            5      42   М\n",
       "5                            4      29   М\n",
       "..                         ...     ...  ..\n",
       "233                          5      30   М\n",
       "234                          4      36   Ж\n",
       "235                          2      60   Ж\n",
       "236                          2      44   Ж\n",
       "237                          3      37   М\n",
       "\n",
       "[237 rows x 3 columns]"
      ]
     },
     "execution_count": 2,
     "metadata": {},
     "output_type": "execute_result"
    }
   ],
   "source": [
    "\n",
    "\n",
    "with open('М.Тех_Данные_к_ТЗ_DS.csv', 'rb') as f:#Используем подбор кодировщика \n",
    "    result = chardet.detect(f.read())\n",
    "\n",
    "data = pd.read_csv('М.Тех_Данные_к_ТЗ_DS.csv', encoding=result['encoding'], sep=\"\\,\", header=None)\n",
    "data = data.apply(lambda x: x.str.replace(r\"\\\"\",\"\", regex=True))#Убираем лишние кавычки \n",
    "data.columns = data.loc[0]\n",
    "data.drop(index=0, inplace=True)\n",
    "data"
   ]
  },
  {
   "cell_type": "code",
   "execution_count": 3,
   "id": "0975ef73",
   "metadata": {},
   "outputs": [
    {
     "name": "stdout",
     "output_type": "stream",
     "text": [
      "<class 'pandas.core.frame.DataFrame'>\n",
      "RangeIndex: 237 entries, 1 to 237\n",
      "Data columns (total 3 columns):\n",
      " #   Column                      Non-Null Count  Dtype \n",
      "---  ------                      --------------  ----- \n",
      " 0   Количество больничных дней  237 non-null    object\n",
      " 1   Возраст                     237 non-null    object\n",
      " 2   Пол                         237 non-null    object\n",
      "dtypes: object(3)\n",
      "memory usage: 5.7+ KB\n"
     ]
    }
   ],
   "source": [
    "data.info()"
   ]
  },
  {
   "cell_type": "markdown",
   "id": "0aca6b7d",
   "metadata": {},
   "source": [
    "Колонки \"Количество больничных дней\" и \"Возраст\" имеют неверный тип данных. Приводем к числовому формату. "
   ]
  },
  {
   "cell_type": "code",
   "execution_count": 4,
   "id": "36d38466",
   "metadata": {},
   "outputs": [
    {
     "name": "stdout",
     "output_type": "stream",
     "text": [
      "<class 'pandas.core.frame.DataFrame'>\n",
      "RangeIndex: 237 entries, 1 to 237\n",
      "Data columns (total 3 columns):\n",
      " #   Column                      Non-Null Count  Dtype \n",
      "---  ------                      --------------  ----- \n",
      " 0   Количество больничных дней  237 non-null    int64 \n",
      " 1   Возраст                     237 non-null    int64 \n",
      " 2   Пол                         237 non-null    object\n",
      "dtypes: int64(2), object(1)\n",
      "memory usage: 5.7+ KB\n"
     ]
    }
   ],
   "source": [
    "import numpy as np\n",
    "data[\"Количество больничных дней\"] = data[\"Количество больничных дней\"].astype(int)\n",
    "data[\"Возраст\"] = data[\"Возраст\"].astype(int)\n",
    "data.info()"
   ]
  },
  {
   "cell_type": "markdown",
   "id": "cd2b013e",
   "metadata": {},
   "source": [
    "Данные не имеют пропусков, столбцы приведены к нужному форимату, дополнительная предобработка не требуется. \n"
   ]
  },
  {
   "cell_type": "markdown",
   "id": "d97eed5f",
   "metadata": {},
   "source": [
    "### Проверим гипотезы"
   ]
  },
  {
   "cell_type": "markdown",
   "id": "745c9931",
   "metadata": {},
   "source": [
    "***Проверим первую гипотезу:\n",
    "Мужчины пропускают в течение года более 2 рабочих дней (work_days) по болезни значимо чаще женщин.***"
   ]
  },
  {
   "cell_type": "code",
   "execution_count": 5,
   "id": "833ae2e1",
   "metadata": {},
   "outputs": [
    {
     "data": {
      "text/html": [
       "<div>\n",
       "<style scoped>\n",
       "    .dataframe tbody tr th:only-of-type {\n",
       "        vertical-align: middle;\n",
       "    }\n",
       "\n",
       "    .dataframe tbody tr th {\n",
       "        vertical-align: top;\n",
       "    }\n",
       "\n",
       "    .dataframe thead th {\n",
       "        text-align: right;\n",
       "    }\n",
       "</style>\n",
       "<table border=\"1\" class=\"dataframe\">\n",
       "  <thead>\n",
       "    <tr style=\"text-align: right;\">\n",
       "      <th></th>\n",
       "      <th>Пол</th>\n",
       "      <th>Количество больничных дней</th>\n",
       "    </tr>\n",
       "  </thead>\n",
       "  <tbody>\n",
       "    <tr>\n",
       "      <th>1</th>\n",
       "      <td>М</td>\n",
       "      <td>139</td>\n",
       "    </tr>\n",
       "    <tr>\n",
       "      <th>0</th>\n",
       "      <td>Ж</td>\n",
       "      <td>98</td>\n",
       "    </tr>\n",
       "  </tbody>\n",
       "</table>\n",
       "</div>"
      ],
      "text/plain": [
       "0 Пол  Количество больничных дней\n",
       "1   М                         139\n",
       "0   Ж                          98"
      ]
     },
     "execution_count": 5,
     "metadata": {},
     "output_type": "execute_result"
    }
   ],
   "source": [
    "# Посмотрим изначальное колличество мужчин и женщин в таблице, без учета фильтра \n",
    "men_women =(\n",
    "   \n",
    "    data.pivot_table(index=['Пол'], values='Количество больничных дней', aggfunc='count').reset_index()\n",
    "    .sort_values(by=['Количество больничных дней'], ascending= False)\n",
    "         \n",
    ")\n",
    "men_women"
   ]
  },
  {
   "cell_type": "markdown",
   "id": "b8ccfc95",
   "metadata": {},
   "source": [
    "Мужчин в выборке больше чем женщин в 1.4 раза, посмотрим на соотношение после среза данных"
   ]
  },
  {
   "cell_type": "code",
   "execution_count": 6,
   "id": "16aa686a",
   "metadata": {},
   "outputs": [],
   "source": [
    "men = data[(data['Количество больничных дней']> 2) & (data['Пол']== 'М')]# Делаем срез данных\n",
    "women = data[(data['Количество больничных дней']> 2) & (data['Пол']== 'Ж')]\n"
   ]
  },
  {
   "cell_type": "code",
   "execution_count": 7,
   "id": "3210904a",
   "metadata": {
    "scrolled": true
   },
   "outputs": [
    {
     "name": "stdout",
     "output_type": "stream",
     "text": [
      "Колличество работников мужчин = 84 человек\n",
      "Колличество работников женщин = 67 человек\n"
     ]
    }
   ],
   "source": [
    "\n",
    "print('Колличество работников мужчин =',men['Количество больничных дней'].count(),'человек')\n",
    "\n",
    "print('Колличество работников женщин =',women['Количество больничных дней'].count(),'человек')"
   ]
  },
  {
   "cell_type": "markdown",
   "id": "0be8c33a",
   "metadata": {},
   "source": [
    "В срезе данных мужчин в 1.25 раза больше чем женщин"
   ]
  },
  {
   "cell_type": "code",
   "execution_count": 8,
   "id": "23a67fca",
   "metadata": {
    "scrolled": false
   },
   "outputs": [
    {
     "data": {
      "image/png": "[encoded data removed]",
      "text/plain": [
       "<Figure size 432x288 with 1 Axes>"
      ]
     },
     "metadata": {
      "needs_background": "light"
     },
     "output_type": "display_data"
    }
   ],
   "source": [
    "plt.title('Гистограмма для сотрудников мужчин и женщин')# Нарисуем гистограмму\n",
    "plt.xlabel('Колличество пропущенных дней')\n",
    "plt.ylabel('Частота')\n",
    "men['Количество больничных дней'].hist( alpha=0.5, color='green')\n",
    "women['Количество больничных дней'].hist( alpha=0.5, color='blue')\n",
    "plt.show()"
   ]
  },
  {
   "cell_type": "markdown",
   "id": "fcf4e43e",
   "metadata": {},
   "source": [
    "Зеленым цветом обозначены сотрудники мужчины \n",
    "Синим цветом сотрудники женщины. "
   ]
  },
  {
   "cell_type": "markdown",
   "id": "55aaba83",
   "metadata": {},
   "source": [
    "На графике не видно явных скачков показывающих что один из полов пропускает значительно больше рабочих дней чем другой. Финальное заключение сделаем на основе статистического теста "
   ]
  },
  {
   "cell_type": "markdown",
   "id": "fbd85277",
   "metadata": {},
   "source": [
    "*Гипотеза № 1\n",
    "Мужчины пропускают в течение года более 2 рабочих дней (work_days) по болезни значимо чаще женщин.\n",
    "Нулевая гипотеза (H0): Среднее количество пропущенных рабочих дней мужчинами и женщинами одинаково.\n",
    "Альтернативная гипотеза (H1): Среднее количество пропущенных рабочих дней мужчинами больше, чем у женщин.*"
   ]
  },
  {
   "cell_type": "code",
   "execution_count": 9,
   "id": "800b44a1",
   "metadata": {
    "scrolled": true
   },
   "outputs": [
    {
     "name": "stdout",
     "output_type": "stream",
     "text": [
      "Различие между средним количеством пропущенных рабочих дней по болезни у мужчин и женщин не является значимым.\n",
      "p-значение: 0.67806332103283\n"
     ]
    }
   ],
   "source": [
    "# Проверка гипотезы о равенстве средних двух выборок\n",
    "t_stat, p_value = stats.ttest_ind(men['Количество больничных дней'], women['Количество больничных дней'])\n",
    "\n",
    "# Определение уровня значимости\n",
    "alpha = 0.05\n",
    "\n",
    "# Сравнение уровня значимости с p-value\n",
    "if p_value < alpha:\n",
    "    print('Различие между средним количеством пропущенных рабочих дней по болезни у мужчин и женщин является значимым.')\n",
    "else:\n",
    "    print('Различие между средним количеством пропущенных рабочих дней по болезни у мужчин и женщин не является значимым.')\n",
    "print('p-значение:', p_value)        "
   ]
  },
  {
   "cell_type": "markdown",
   "id": "416aa175",
   "metadata": {},
   "source": [
    "**Из статистичесого t-теста выидим что нельзя отвергнуть нулевую гипотезу,это значит что нельзя утверждать что среднее колличество пропущенных рабочих дней у мужчин и женщин различно. Иными словами среднее количество пропущенных рабочих дней мужчинами и женщинами одинаково.**"
   ]
  },
  {
   "cell_type": "markdown",
   "id": "42450762",
   "metadata": {},
   "source": [
    "Проведем иследование второй гипотезы сформулированную следующим образом:\n",
    "Работники старше 35 лет (age) пропускают в течение года более 2 рабочих дней (work_days) по болезни значимо чаще своих более молодых коллег."
   ]
  },
  {
   "cell_type": "code",
   "execution_count": 10,
   "id": "9dfac44a",
   "metadata": {},
   "outputs": [],
   "source": [
    "older_employees = data[(data['Количество больничных дней']> 2) & (data['Возраст']> 35)]# Делаем сруз данных\n",
    "younger_employees = data[(data['Количество больничных дней']> 2) & (data['Возраст']< 35)]"
   ]
  },
  {
   "cell_type": "code",
   "execution_count": 11,
   "id": "0b184581",
   "metadata": {
    "scrolled": false
   },
   "outputs": [
    {
     "data": {
      "image/png": "[encoded data removed]",
      "text/plain": [
       "<Figure size 432x288 with 1 Axes>"
      ]
     },
     "metadata": {
      "needs_background": "light"
     },
     "output_type": "display_data"
    }
   ],
   "source": [
    "plt.title('Гистограмма для людей до 35 и старше')# Нарисуем гистограмму\n",
    "plt.xlabel('Колличество пропущенных дней')\n",
    "plt.ylabel('Частота')\n",
    "older_employees['Количество больничных дней'].hist( alpha=0.5, color='green')\n",
    "younger_employees['Количество больничных дней'].hist( alpha=0.5, color='blue')\n",
    "plt.show()"
   ]
  },
  {
   "cell_type": "markdown",
   "id": "e3e765fe",
   "metadata": {},
   "source": [
    "Зеленым цветом обозначены сотрудники старше 35 лет\n",
    "Синим цветом сотрудники до 35 лет"
   ]
  },
  {
   "cell_type": "code",
   "execution_count": 12,
   "id": "abdb4b41",
   "metadata": {
    "scrolled": true
   },
   "outputs": [
    {
     "name": "stdout",
     "output_type": "stream",
     "text": [
      "Колличество работников старше 35 лет = 115 человек\n",
      "Колличество работников младше 35 лет = 31 человек\n"
     ]
    }
   ],
   "source": [
    "print('Колличество работников старше 35 лет =',older_employees['Количество больничных дней'].count(),'человек')\n",
    "\n",
    "print('Колличество работников младше 35 лет =',younger_employees['Количество больничных дней'].count(),'человек')"
   ]
  },
  {
   "cell_type": "markdown",
   "id": "e992dda0",
   "metadata": {},
   "source": [
    "Как выдно из гистограммы колличество пропущенных дней у людей в возрасте больше 35 лет значительно выше, чем у людей до 35 лет. Но однозначно делать выводы на основе графика нельзя, так как соотношение людей людей в выборке не пропорционально 115 - работников больше 35 лет, против 31 - сотрудника моложе 35 лет. Полную картину покажет статистический тест"
   ]
  },
  {
   "cell_type": "markdown",
   "id": "688f3adc",
   "metadata": {},
   "source": [
    "*Гипотеза № 2\n",
    "Работники старше 35 лет (age) пропускают в течение года более 2 рабочих дней (work_days) по болезни значимо чаще своих более молодых коллег.\n",
    "Нулевая гипотеза (H0): Среднее количество пропущенных рабочих дней сотрудниками старше 35 лет и их более молодыми коллегами одинаково.\n",
    "Альтернативная гипотеза (H1): Среднее количество пропущенных рабочих дней сотрудниками старше 35 лет больше, чем у их более молодых коллег.*"
   ]
  },
  {
   "cell_type": "code",
   "execution_count": 13,
   "id": "fc63cf9f",
   "metadata": {},
   "outputs": [
    {
     "name": "stdout",
     "output_type": "stream",
     "text": [
      "Нет значимого различия в пропусках по болезни между работниками старше 35 лет и их более молодыми коллегами.\n",
      "p-значение: 0.6027265658515909\n"
     ]
    }
   ],
   "source": [
    "# Проведение t-теста для сравнения средних значений\n",
    "t_stat, p_value = stats.ttest_ind(older_employees['Количество больничных дней'], younger_employees['Количество больничных дней'])\n",
    "# Определение уровня значимости\n",
    "alpha = 0.05\n",
    "# Вывод результатов теста\n",
    "if p_value < alpha:\n",
    "    print(\"Работники старше 35 лет пропускают в течение года более 2 рабочих дней по болезни значимо чаще своих более молодых коллег.\")\n",
    "else:\n",
    "    print(\"Нет значимого различия в пропусках по болезни между работниками старше 35 лет и их более молодыми коллегами.\")\n",
    "print('p-значение:', p_value)    "
   ]
  },
  {
   "cell_type": "markdown",
   "id": "51e79455",
   "metadata": {},
   "source": [
    "**Как видно из t-теста невозможно отвергнуть гипотезу о равенстве средних пропущенных дней у сотрудников до 35 лет и старше.**\n"
   ]
  },
  {
   "cell_type": "markdown",
   "id": "c6340428",
   "metadata": {},
   "source": [
    "***По итогу иследования были провернны следующие гипотезы:***\n",
    "***1) Мужчины пропускают в течение года более 2 рабочих дней (work_days) по болезни значимо чаще женщин.***\n",
    "***2) Работники старше 35 лет (age) пропускают в течение года более 2 рабочих дней (work_days) по болезни значимо чаще своих более молодых коллег.***\n",
    "***В результате иследования были отвергнуты обе данные гипотезы, так по результату статистических тестов среднее колличество пропущенных дней между мужчинами и женщинами равны, так же каки среднее значение у людей до 35 лет и старше.***"
   ]
  },
  {
   "cell_type": "code",
   "execution_count": null,
   "id": "28126c1e",
   "metadata": {},
   "outputs": [],
   "source": []
  }
 ],
 "metadata": {
  "ExecuteTimeLog": [
   {
    "duration": 394,
    "start_time": "2023-12-15T13:05:20.487Z"
   },
   {
    "duration": 77,
    "start_time": "2023-12-15T13:13:26.450Z"
   },
   {
    "duration": 23,
    "start_time": "2023-12-15T13:13:28.730Z"
   },
   {
    "duration": 17,
    "start_time": "2023-12-15T13:13:33.668Z"
   },
   {
    "duration": 14,
    "start_time": "2023-12-15T13:14:18.887Z"
   },
   {
    "duration": 175,
    "start_time": "2023-12-15T13:15:00.414Z"
   },
   {
    "duration": 92,
    "start_time": "2023-12-15T13:15:29.132Z"
   },
   {
    "duration": 41,
    "start_time": "2023-12-15T13:18:07.661Z"
   },
   {
    "duration": 9,
    "start_time": "2023-12-15T13:22:41.196Z"
   },
   {
    "duration": 1213,
    "start_time": "2023-12-15T13:24:50.818Z"
   },
   {
    "duration": 94,
    "start_time": "2023-12-15T13:28:31.049Z"
   },
   {
    "duration": 46,
    "start_time": "2023-12-15T13:28:49.381Z"
   },
   {
    "duration": 3,
    "start_time": "2023-12-15T13:39:38.257Z"
   },
   {
    "duration": 103,
    "start_time": "2023-12-15T13:40:06.978Z"
   },
   {
    "duration": 9,
    "start_time": "2023-12-15T13:58:45.793Z"
   },
   {
    "duration": 129,
    "start_time": "2023-12-15T14:00:39.921Z"
   },
   {
    "duration": 67,
    "start_time": "2023-12-15T14:00:58.932Z"
   },
   {
    "duration": 108,
    "start_time": "2023-12-15T14:01:06.041Z"
   },
   {
    "duration": 85,
    "start_time": "2023-12-15T14:05:28.991Z"
   },
   {
    "duration": 1963,
    "start_time": "2023-12-15T14:05:37.470Z"
   },
   {
    "duration": 1381,
    "start_time": "2023-12-15T14:09:51.121Z"
   },
   {
    "duration": 47,
    "start_time": "2023-12-15T14:10:31.416Z"
   },
   {
    "duration": 38,
    "start_time": "2023-12-15T14:10:36.949Z"
   },
   {
    "duration": 33,
    "start_time": "2023-12-15T14:11:53.389Z"
   },
   {
    "duration": 109,
    "start_time": "2023-12-15T14:27:53.072Z"
   },
   {
    "duration": 12,
    "start_time": "2023-12-15T14:36:05.372Z"
   },
   {
    "duration": 10,
    "start_time": "2023-12-15T14:36:41.024Z"
   },
   {
    "duration": 8,
    "start_time": "2023-12-15T14:36:53.367Z"
   },
   {
    "duration": 8,
    "start_time": "2023-12-15T14:40:02.856Z"
   },
   {
    "duration": 8,
    "start_time": "2023-12-15T14:40:26.892Z"
   },
   {
    "duration": 8,
    "start_time": "2023-12-15T14:40:50.290Z"
   },
   {
    "duration": 116,
    "start_time": "2023-12-15T14:46:48.550Z"
   },
   {
    "duration": 59,
    "start_time": "2023-12-15T14:47:13.630Z"
   },
   {
    "duration": 82,
    "start_time": "2023-12-15T14:47:28.236Z"
   },
   {
    "duration": 371,
    "start_time": "2023-12-15T14:55:53.306Z"
   },
   {
    "duration": 38,
    "start_time": "2023-12-15T14:56:02.363Z"
   },
   {
    "duration": 86,
    "start_time": "2023-12-15T15:16:05.950Z"
   },
   {
    "duration": 60,
    "start_time": "2023-12-15T15:18:17.982Z"
   },
   {
    "duration": 59,
    "start_time": "2023-12-15T15:20:23.973Z"
   },
   {
    "duration": 526,
    "start_time": "2023-12-15T15:20:33.772Z"
   },
   {
    "duration": 47,
    "start_time": "2023-12-15T15:20:51.839Z"
   },
   {
    "duration": 4,
    "start_time": "2023-12-15T15:28:17.717Z"
   },
   {
    "duration": 61,
    "start_time": "2023-12-15T15:29:13.732Z"
   },
   {
    "duration": 30,
    "start_time": "2023-12-15T15:29:18.398Z"
   },
   {
    "duration": 101,
    "start_time": "2023-12-15T15:35:09.854Z"
   },
   {
    "duration": 60,
    "start_time": "2023-12-15T15:39:38.986Z"
   },
   {
    "duration": 97,
    "start_time": "2023-12-15T15:42:14.662Z"
   },
   {
    "duration": 4,
    "start_time": "2023-12-15T15:42:16.389Z"
   },
   {
    "duration": 10,
    "start_time": "2023-12-15T15:42:17.584Z"
   },
   {
    "duration": 83,
    "start_time": "2023-12-15T15:42:20.640Z"
   },
   {
    "duration": 337,
    "start_time": "2023-12-15T16:00:14.085Z"
   },
   {
    "duration": 61,
    "start_time": "2023-12-15T16:01:51.336Z"
   },
   {
    "duration": 70,
    "start_time": "2023-12-15T16:03:00.481Z"
   },
   {
    "duration": 65,
    "start_time": "2023-12-15T16:06:48.616Z"
   },
   {
    "duration": 4,
    "start_time": "2023-12-15T16:15:03.271Z"
   },
   {
    "duration": 56,
    "start_time": "2023-12-15T16:15:12.259Z"
   },
   {
    "duration": 52,
    "start_time": "2023-12-15T16:15:34.231Z"
   },
   {
    "duration": 61,
    "start_time": "2023-12-15T16:16:25.662Z"
   },
   {
    "duration": 46,
    "start_time": "2023-12-15T16:35:08.427Z"
   },
   {
    "duration": 49,
    "start_time": "2023-12-15T16:41:02.511Z"
   },
   {
    "duration": 31,
    "start_time": "2023-12-15T16:41:12.462Z"
   },
   {
    "duration": 33,
    "start_time": "2023-12-15T16:41:49.949Z"
   },
   {
    "duration": 30,
    "start_time": "2023-12-15T16:47:47.577Z"
   },
   {
    "duration": 111,
    "start_time": "2023-12-15T16:58:48.867Z"
   },
   {
    "duration": 65,
    "start_time": "2023-12-15T16:59:59.865Z"
   },
   {
    "duration": 76,
    "start_time": "2023-12-15T17:00:26.690Z"
   },
   {
    "duration": 83,
    "start_time": "2023-12-15T17:00:59.307Z"
   },
   {
    "duration": 63,
    "start_time": "2023-12-15T17:01:08.642Z"
   },
   {
    "duration": 85,
    "start_time": "2023-12-15T17:01:13.146Z"
   },
   {
    "duration": 4,
    "start_time": "2023-12-15T17:01:15.783Z"
   },
   {
    "duration": 104,
    "start_time": "2023-12-15T17:03:11.679Z"
   },
   {
    "duration": 65,
    "start_time": "2023-12-15T17:08:03.387Z"
   },
   {
    "duration": 82,
    "start_time": "2023-12-15T17:09:07.503Z"
   },
   {
    "duration": 1225,
    "start_time": "2023-12-15T17:11:36.976Z"
   },
   {
    "duration": 1281,
    "start_time": "2023-12-15T17:13:38.434Z"
   },
   {
    "duration": 64,
    "start_time": "2023-12-15T17:14:10.041Z"
   },
   {
    "duration": 34,
    "start_time": "2023-12-15T17:15:36.954Z"
   },
   {
    "duration": 86,
    "start_time": "2023-12-15T17:15:58.597Z"
   },
   {
    "duration": 98,
    "start_time": "2023-12-15T17:16:02.128Z"
   },
   {
    "duration": 37,
    "start_time": "2023-12-15T17:16:17.833Z"
   },
   {
    "duration": 121,
    "start_time": "2023-12-15T17:17:08.329Z"
   },
   {
    "duration": 85,
    "start_time": "2023-12-15T17:17:26.738Z"
   },
   {
    "duration": 119,
    "start_time": "2023-12-15T17:18:03.454Z"
   },
   {
    "duration": 72,
    "start_time": "2023-12-15T17:18:23.982Z"
   },
   {
    "duration": 66,
    "start_time": "2023-12-15T17:18:34.445Z"
   },
   {
    "duration": 59,
    "start_time": "2023-12-15T20:08:46.154Z"
   },
   {
    "duration": 16,
    "start_time": "2023-12-15T20:09:12.509Z"
   },
   {
    "duration": 386,
    "start_time": "2023-12-15T20:09:21.743Z"
   },
   {
    "duration": 75,
    "start_time": "2023-12-15T20:09:22.131Z"
   },
   {
    "duration": 24,
    "start_time": "2023-12-15T20:09:22.207Z"
   },
   {
    "duration": 3,
    "start_time": "2023-12-15T20:09:22.232Z"
   },
   {
    "duration": 9,
    "start_time": "2023-12-15T20:09:22.237Z"
   },
   {
    "duration": 111,
    "start_time": "2023-12-15T20:09:22.247Z"
   },
   {
    "duration": 52,
    "start_time": "2023-12-15T20:09:38.992Z"
   },
   {
    "duration": 60,
    "start_time": "2023-12-15T20:09:54.534Z"
   },
   {
    "duration": 90,
    "start_time": "2023-12-15T20:10:12.042Z"
   },
   {
    "duration": 61,
    "start_time": "2023-12-15T20:10:23.613Z"
   },
   {
    "duration": 109,
    "start_time": "2023-12-15T20:12:01.866Z"
   },
   {
    "duration": 54,
    "start_time": "2023-12-15T20:12:28.489Z"
   },
   {
    "duration": 48,
    "start_time": "2023-12-15T20:12:39.350Z"
   },
   {
    "duration": 67,
    "start_time": "2023-12-15T20:13:04.751Z"
   },
   {
    "duration": 44,
    "start_time": "2023-12-15T20:13:15.243Z"
   },
   {
    "duration": 46,
    "start_time": "2023-12-15T20:13:28.549Z"
   },
   {
    "duration": 52,
    "start_time": "2023-12-15T20:13:40.887Z"
   },
   {
    "duration": 46,
    "start_time": "2023-12-15T20:13:56.890Z"
   },
   {
    "duration": 56,
    "start_time": "2023-12-15T20:14:04.006Z"
   },
   {
    "duration": 49,
    "start_time": "2023-12-15T20:17:45.397Z"
   },
   {
    "duration": 46,
    "start_time": "2023-12-15T20:17:53.224Z"
   },
   {
    "duration": 66,
    "start_time": "2023-12-15T20:20:05.454Z"
   },
   {
    "duration": 12,
    "start_time": "2023-12-15T20:20:41.501Z"
   },
   {
    "duration": 9,
    "start_time": "2023-12-15T20:24:59.903Z"
   },
   {
    "duration": 24,
    "start_time": "2023-12-15T20:39:18.560Z"
   },
   {
    "duration": 49,
    "start_time": "2023-12-15T20:40:07.958Z"
   },
   {
    "duration": 12,
    "start_time": "2023-12-15T20:40:11.797Z"
   },
   {
    "duration": 64,
    "start_time": "2023-12-15T20:41:39.501Z"
   },
   {
    "duration": 784,
    "start_time": "2023-12-15T20:42:20.937Z"
   },
   {
    "duration": 72,
    "start_time": "2023-12-15T20:42:36.592Z"
   },
   {
    "duration": 42,
    "start_time": "2023-12-15T20:43:46.378Z"
   },
   {
    "duration": 70,
    "start_time": "2023-12-15T20:43:56.591Z"
   },
   {
    "duration": 70,
    "start_time": "2023-12-15T20:44:02.364Z"
   },
   {
    "duration": 55,
    "start_time": "2023-12-15T20:44:26.096Z"
   },
   {
    "duration": 253,
    "start_time": "2023-12-15T20:45:27.374Z"
   },
   {
    "duration": 66,
    "start_time": "2023-12-15T20:45:41.684Z"
   },
   {
    "duration": 77,
    "start_time": "2023-12-15T20:45:52.058Z"
   },
   {
    "duration": 77,
    "start_time": "2023-12-15T20:46:07.682Z"
   },
   {
    "duration": 58,
    "start_time": "2023-12-15T20:47:15.430Z"
   },
   {
    "duration": 55,
    "start_time": "2023-12-15T20:47:21.576Z"
   },
   {
    "duration": 2,
    "start_time": "2023-12-15T20:47:29.662Z"
   },
   {
    "duration": 57,
    "start_time": "2023-12-15T20:47:52.477Z"
   },
   {
    "duration": 9,
    "start_time": "2023-12-15T20:59:19.227Z"
   },
   {
    "duration": 9,
    "start_time": "2023-12-15T21:01:08.375Z"
   },
   {
    "duration": 9,
    "start_time": "2023-12-15T21:01:20.073Z"
   },
   {
    "duration": 11,
    "start_time": "2023-12-15T21:01:33.331Z"
   },
   {
    "duration": 46,
    "start_time": "2023-12-16T07:44:49.835Z"
   },
   {
    "duration": 411,
    "start_time": "2023-12-16T07:44:58.477Z"
   },
   {
    "duration": 188,
    "start_time": "2023-12-16T07:44:58.890Z"
   },
   {
    "duration": 9,
    "start_time": "2023-12-16T07:44:59.079Z"
   },
   {
    "duration": 16,
    "start_time": "2023-12-16T07:44:59.090Z"
   },
   {
    "duration": 29,
    "start_time": "2023-12-16T07:44:59.107Z"
   },
   {
    "duration": 70,
    "start_time": "2023-12-16T07:48:56.039Z"
   },
   {
    "duration": 13,
    "start_time": "2023-12-16T07:49:14.830Z"
   },
   {
    "duration": 9,
    "start_time": "2023-12-16T07:51:58.350Z"
   },
   {
    "duration": 12,
    "start_time": "2023-12-16T07:52:07.260Z"
   },
   {
    "duration": 12,
    "start_time": "2023-12-16T07:52:48.094Z"
   },
   {
    "duration": 5,
    "start_time": "2023-12-16T07:53:27.750Z"
   },
   {
    "duration": 1221,
    "start_time": "2023-12-16T07:56:42.340Z"
   },
   {
    "duration": 6,
    "start_time": "2023-12-16T07:57:38.839Z"
   },
   {
    "duration": 8,
    "start_time": "2023-12-16T07:59:57.376Z"
   },
   {
    "duration": 14,
    "start_time": "2023-12-16T08:00:06.114Z"
   },
   {
    "duration": 43,
    "start_time": "2023-12-16T08:05:15.664Z"
   },
   {
    "duration": 41,
    "start_time": "2023-12-16T08:06:16.999Z"
   },
   {
    "duration": 63,
    "start_time": "2023-12-16T08:09:26.410Z"
   },
   {
    "duration": 40,
    "start_time": "2023-12-16T09:44:36.093Z"
   },
   {
    "duration": 48,
    "start_time": "2023-12-16T09:44:46.111Z"
   },
   {
    "duration": 46,
    "start_time": "2023-12-16T09:46:30.969Z"
   },
   {
    "duration": 8,
    "start_time": "2023-12-16T09:48:20.428Z"
   },
   {
    "duration": 369,
    "start_time": "2023-12-16T09:49:55.757Z"
   },
   {
    "duration": 229,
    "start_time": "2023-12-16T09:49:56.127Z"
   },
   {
    "duration": 9,
    "start_time": "2023-12-16T09:49:56.357Z"
   },
   {
    "duration": 23,
    "start_time": "2023-12-16T09:49:56.368Z"
   },
   {
    "duration": 42,
    "start_time": "2023-12-16T09:49:56.393Z"
   },
   {
    "duration": 64,
    "start_time": "2023-12-16T09:49:56.437Z"
   },
   {
    "duration": 9,
    "start_time": "2023-12-16T09:51:47.948Z"
   },
   {
    "duration": 5,
    "start_time": "2023-12-16T09:51:55.538Z"
   },
   {
    "duration": 7,
    "start_time": "2023-12-16T09:52:59.340Z"
   },
   {
    "duration": 12,
    "start_time": "2023-12-16T09:53:14.173Z"
   },
   {
    "duration": 12,
    "start_time": "2023-12-16T09:53:18.614Z"
   },
   {
    "duration": 7,
    "start_time": "2023-12-16T09:53:21.219Z"
   },
   {
    "duration": 5,
    "start_time": "2023-12-16T09:53:24.578Z"
   },
   {
    "duration": 418,
    "start_time": "2023-12-16T09:53:31.429Z"
   },
   {
    "duration": 89,
    "start_time": "2023-12-16T09:53:31.849Z"
   },
   {
    "duration": 12,
    "start_time": "2023-12-16T09:53:31.940Z"
   },
   {
    "duration": 12,
    "start_time": "2023-12-16T09:53:31.955Z"
   },
   {
    "duration": 14,
    "start_time": "2023-12-16T09:53:31.969Z"
   },
   {
    "duration": 99,
    "start_time": "2023-12-16T09:53:31.985Z"
   },
   {
    "duration": 0,
    "start_time": "2023-12-16T09:53:32.086Z"
   },
   {
    "duration": 1266,
    "start_time": "2023-12-16T09:55:54.337Z"
   },
   {
    "duration": 6,
    "start_time": "2023-12-16T09:56:06.201Z"
   },
   {
    "duration": 1217,
    "start_time": "2023-12-16T09:57:03.921Z"
   },
   {
    "duration": 5,
    "start_time": "2023-12-16T09:57:14.914Z"
   },
   {
    "duration": 76,
    "start_time": "2023-12-16T09:57:37.870Z"
   },
   {
    "duration": 1308,
    "start_time": "2023-12-16T09:57:49.052Z"
   },
   {
    "duration": 1191,
    "start_time": "2023-12-16T09:57:58.687Z"
   },
   {
    "duration": 5,
    "start_time": "2023-12-16T09:58:11.532Z"
   },
   {
    "duration": 1386,
    "start_time": "2023-12-16T09:58:29.294Z"
   },
   {
    "duration": 3,
    "start_time": "2023-12-16T10:00:58.464Z"
   },
   {
    "duration": 1217,
    "start_time": "2023-12-16T10:01:20.157Z"
   },
   {
    "duration": 9,
    "start_time": "2023-12-16T10:01:39.513Z"
   },
   {
    "duration": 9,
    "start_time": "2023-12-16T10:02:07.896Z"
   },
   {
    "duration": 741,
    "start_time": "2023-12-16T10:04:12.791Z"
   },
   {
    "duration": 9,
    "start_time": "2023-12-16T10:04:54.633Z"
   },
   {
    "duration": 80,
    "start_time": "2023-12-16T10:07:42.670Z"
   },
   {
    "duration": 10,
    "start_time": "2023-12-16T10:08:10.547Z"
   },
   {
    "duration": 620,
    "start_time": "2023-12-16T10:08:42.403Z"
   },
   {
    "duration": 120,
    "start_time": "2023-12-16T10:10:28.288Z"
   },
   {
    "duration": 118,
    "start_time": "2023-12-16T10:10:59.477Z"
   },
   {
    "duration": 171,
    "start_time": "2023-12-16T10:12:11.174Z"
   },
   {
    "duration": 859,
    "start_time": "2023-12-16T10:51:01.797Z"
   },
   {
    "duration": 187,
    "start_time": "2023-12-16T10:51:02.658Z"
   },
   {
    "duration": 9,
    "start_time": "2023-12-16T10:51:02.847Z"
   },
   {
    "duration": 46,
    "start_time": "2023-12-16T10:51:02.858Z"
   },
   {
    "duration": 28,
    "start_time": "2023-12-16T10:51:02.906Z"
   },
   {
    "duration": 375,
    "start_time": "2023-12-16T10:51:02.935Z"
   },
   {
    "duration": 120,
    "start_time": "2023-12-16T10:51:03.315Z"
   },
   {
    "duration": 109,
    "start_time": "2023-12-16T10:51:03.436Z"
   },
   {
    "duration": 4,
    "start_time": "2023-12-16T10:51:40.469Z"
   },
   {
    "duration": 5,
    "start_time": "2023-12-16T11:07:59.039Z"
   },
   {
    "duration": 11,
    "start_time": "2023-12-16T11:08:03.631Z"
   },
   {
    "duration": 109,
    "start_time": "2023-12-16T11:09:55.445Z"
   },
   {
    "duration": 109,
    "start_time": "2023-12-16T11:10:07.923Z"
   },
   {
    "duration": 8,
    "start_time": "2023-12-16T11:11:40.415Z"
   },
   {
    "duration": 801,
    "start_time": "2023-12-16T11:12:38.950Z"
   },
   {
    "duration": 82,
    "start_time": "2023-12-16T11:12:39.753Z"
   },
   {
    "duration": 9,
    "start_time": "2023-12-16T11:12:39.836Z"
   },
   {
    "duration": 23,
    "start_time": "2023-12-16T11:12:39.847Z"
   },
   {
    "duration": 17,
    "start_time": "2023-12-16T11:12:39.872Z"
   },
   {
    "duration": 367,
    "start_time": "2023-12-16T11:12:39.891Z"
   },
   {
    "duration": 121,
    "start_time": "2023-12-16T11:12:40.260Z"
   },
   {
    "duration": 5,
    "start_time": "2023-12-16T11:12:40.382Z"
   },
   {
    "duration": 19,
    "start_time": "2023-12-16T11:12:40.388Z"
   },
   {
    "duration": 121,
    "start_time": "2023-12-16T11:12:40.409Z"
   },
   {
    "duration": 128,
    "start_time": "2023-12-16T11:12:40.532Z"
   },
   {
    "duration": 4,
    "start_time": "2023-12-16T11:12:40.662Z"
   },
   {
    "duration": 5,
    "start_time": "2023-12-16T11:43:14.343Z"
   },
   {
    "duration": 115,
    "start_time": "2023-12-16T11:43:15.116Z"
   },
   {
    "duration": 120,
    "start_time": "2023-12-16T11:43:17.366Z"
   },
   {
    "duration": 5,
    "start_time": "2023-12-16T11:43:22.289Z"
   },
   {
    "duration": 112,
    "start_time": "2023-12-16T15:37:38.388Z"
   },
   {
    "duration": 26845,
    "start_time": "2023-12-16T15:39:40.162Z"
   },
   {
    "duration": 396,
    "start_time": "2023-12-16T15:40:07.009Z"
   },
   {
    "duration": 99,
    "start_time": "2023-12-16T15:40:10.302Z"
   },
   {
    "duration": 68,
    "start_time": "2023-12-16T15:40:51.125Z"
   },
   {
    "duration": 2624,
    "start_time": "2023-12-16T15:41:06.748Z"
   },
   {
    "duration": 1362,
    "start_time": "2023-12-16T15:41:09.374Z"
   },
   {
    "duration": 122,
    "start_time": "2023-12-16T15:41:10.738Z"
   },
   {
    "duration": 8,
    "start_time": "2023-12-16T15:41:10.861Z"
   },
   {
    "duration": 8,
    "start_time": "2023-12-16T15:41:10.871Z"
   },
   {
    "duration": 11,
    "start_time": "2023-12-16T15:41:10.881Z"
   },
   {
    "duration": 370,
    "start_time": "2023-12-16T15:41:10.893Z"
   },
   {
    "duration": 119,
    "start_time": "2023-12-16T15:41:11.265Z"
   },
   {
    "duration": 4,
    "start_time": "2023-12-16T15:41:11.385Z"
   },
   {
    "duration": 6,
    "start_time": "2023-12-16T15:41:11.391Z"
   },
   {
    "duration": 123,
    "start_time": "2023-12-16T15:41:11.398Z"
   },
   {
    "duration": 134,
    "start_time": "2023-12-16T15:41:11.523Z"
   },
   {
    "duration": 5,
    "start_time": "2023-12-16T15:41:11.658Z"
   },
   {
    "duration": 48,
    "start_time": "2023-12-17T07:49:07.577Z"
   },
   {
    "duration": 27457,
    "start_time": "2023-12-17T07:49:16.148Z"
   },
   {
    "duration": 1511,
    "start_time": "2023-12-17T07:49:43.608Z"
   },
   {
    "duration": 170,
    "start_time": "2023-12-17T07:49:45.120Z"
   },
   {
    "duration": 8,
    "start_time": "2023-12-17T07:49:45.292Z"
   },
   {
    "duration": 37,
    "start_time": "2023-12-17T07:49:45.302Z"
   },
   {
    "duration": 16,
    "start_time": "2023-12-17T07:49:45.340Z"
   },
   {
    "duration": 567,
    "start_time": "2023-12-17T07:49:45.357Z"
   },
   {
    "duration": 115,
    "start_time": "2023-12-17T07:49:45.925Z"
   },
   {
    "duration": 4,
    "start_time": "2023-12-17T07:49:46.042Z"
   },
   {
    "duration": 24,
    "start_time": "2023-12-17T07:49:46.048Z"
   },
   {
    "duration": 118,
    "start_time": "2023-12-17T07:49:46.074Z"
   },
   {
    "duration": 132,
    "start_time": "2023-12-17T07:49:46.194Z"
   },
   {
    "duration": 5,
    "start_time": "2023-12-17T07:49:46.328Z"
   },
   {
    "duration": 5,
    "start_time": "2023-12-17T07:57:14.285Z"
   },
   {
    "duration": 171,
    "start_time": "2023-12-17T07:58:29.929Z"
   },
   {
    "duration": 125,
    "start_time": "2023-12-17T07:59:10.556Z"
   },
   {
    "duration": 4,
    "start_time": "2023-12-17T08:01:36.966Z"
   },
   {
    "duration": 129,
    "start_time": "2023-12-17T08:01:44.041Z"
   },
   {
    "duration": 4,
    "start_time": "2023-12-17T08:01:48.317Z"
   },
   {
    "duration": 4,
    "start_time": "2023-12-17T08:02:25.131Z"
   },
   {
    "duration": 4,
    "start_time": "2023-12-17T08:02:55.987Z"
   },
   {
    "duration": 4,
    "start_time": "2023-12-17T08:04:59.842Z"
   },
   {
    "duration": 5,
    "start_time": "2023-12-17T08:05:10.315Z"
   },
   {
    "duration": 5,
    "start_time": "2023-12-17T08:05:18.633Z"
   },
   {
    "duration": 5,
    "start_time": "2023-12-17T08:05:46.501Z"
   },
   {
    "duration": 15,
    "start_time": "2023-12-17T08:09:40.249Z"
   },
   {
    "duration": 12,
    "start_time": "2023-12-17T08:11:39.815Z"
   },
   {
    "duration": 150,
    "start_time": "2023-12-17T08:12:22.393Z"
   },
   {
    "duration": 114,
    "start_time": "2023-12-17T08:13:17.877Z"
   },
   {
    "duration": 6,
    "start_time": "2023-12-17T08:13:31.376Z"
   },
   {
    "duration": 4,
    "start_time": "2023-12-17T08:14:34.118Z"
   },
   {
    "duration": 80,
    "start_time": "2023-12-17T08:20:52.562Z"
   },
   {
    "duration": 82,
    "start_time": "2023-12-17T08:23:51.317Z"
   },
   {
    "duration": 5,
    "start_time": "2023-12-17T08:25:49.779Z"
   },
   {
    "duration": 12,
    "start_time": "2023-12-17T08:39:23.446Z"
   },
   {
    "duration": 1576,
    "start_time": "2023-12-17T08:39:45.085Z"
   },
   {
    "duration": 109,
    "start_time": "2023-12-17T08:39:46.663Z"
   },
   {
    "duration": 9,
    "start_time": "2023-12-17T08:39:46.774Z"
   },
   {
    "duration": 16,
    "start_time": "2023-12-17T08:39:46.785Z"
   },
   {
    "duration": 14,
    "start_time": "2023-12-17T08:39:46.804Z"
   },
   {
    "duration": 23,
    "start_time": "2023-12-17T08:39:46.820Z"
   },
   {
    "duration": 28,
    "start_time": "2023-12-17T08:39:46.845Z"
   },
   {
    "duration": 440,
    "start_time": "2023-12-17T08:39:46.875Z"
   },
   {
    "duration": 156,
    "start_time": "2023-12-17T08:39:47.322Z"
   },
   {
    "duration": 0,
    "start_time": "2023-12-17T08:39:47.480Z"
   },
   {
    "duration": 0,
    "start_time": "2023-12-17T08:39:47.483Z"
   },
   {
    "duration": 0,
    "start_time": "2023-12-17T08:39:47.484Z"
   },
   {
    "duration": 0,
    "start_time": "2023-12-17T08:39:47.486Z"
   },
   {
    "duration": 5,
    "start_time": "2023-12-17T08:40:28.530Z"
   },
   {
    "duration": 10,
    "start_time": "2023-12-17T08:50:32.475Z"
   },
   {
    "duration": 1526,
    "start_time": "2023-12-17T08:50:38.693Z"
   },
   {
    "duration": 122,
    "start_time": "2023-12-17T08:50:40.221Z"
   },
   {
    "duration": 9,
    "start_time": "2023-12-17T08:50:40.345Z"
   },
   {
    "duration": 49,
    "start_time": "2023-12-17T08:50:40.356Z"
   },
   {
    "duration": 32,
    "start_time": "2023-12-17T08:50:40.407Z"
   },
   {
    "duration": 35,
    "start_time": "2023-12-17T08:50:40.441Z"
   },
   {
    "duration": 12,
    "start_time": "2023-12-17T08:50:40.478Z"
   },
   {
    "duration": 465,
    "start_time": "2023-12-17T08:50:40.492Z"
   },
   {
    "duration": 6,
    "start_time": "2023-12-17T08:50:40.958Z"
   },
   {
    "duration": 36,
    "start_time": "2023-12-17T08:50:40.966Z"
   },
   {
    "duration": 132,
    "start_time": "2023-12-17T08:50:41.004Z"
   },
   {
    "duration": 4,
    "start_time": "2023-12-17T08:50:41.138Z"
   },
   {
    "duration": 8,
    "start_time": "2023-12-17T08:50:41.143Z"
   },
   {
    "duration": 1743,
    "start_time": "2023-12-17T09:29:46.782Z"
   },
   {
    "duration": 1409,
    "start_time": "2023-12-17T09:29:48.527Z"
   },
   {
    "duration": 9,
    "start_time": "2023-12-17T09:29:49.938Z"
   },
   {
    "duration": 22,
    "start_time": "2023-12-17T09:29:49.949Z"
   },
   {
    "duration": 18,
    "start_time": "2023-12-17T09:29:49.973Z"
   },
   {
    "duration": 40,
    "start_time": "2023-12-17T09:29:49.993Z"
   },
   {
    "duration": 15,
    "start_time": "2023-12-17T09:29:50.034Z"
   },
   {
    "duration": 185,
    "start_time": "2023-12-17T09:29:50.051Z"
   },
   {
    "duration": 5,
    "start_time": "2023-12-17T09:29:50.238Z"
   },
   {
    "duration": 23,
    "start_time": "2023-12-17T09:29:50.244Z"
   },
   {
    "duration": 168,
    "start_time": "2023-12-17T09:29:50.269Z"
   },
   {
    "duration": 4,
    "start_time": "2023-12-17T09:29:50.439Z"
   },
   {
    "duration": 24,
    "start_time": "2023-12-17T09:29:50.445Z"
   },
   {
    "duration": 152,
    "start_time": "2023-12-17T09:30:53.885Z"
   },
   {
    "duration": 285,
    "start_time": "2023-12-17T09:32:18.221Z"
   },
   {
    "duration": 149,
    "start_time": "2023-12-17T09:32:24.267Z"
   },
   {
    "duration": 158,
    "start_time": "2023-12-17T09:35:59.046Z"
   },
   {
    "duration": 158,
    "start_time": "2023-12-17T09:36:06.775Z"
   },
   {
    "duration": 149,
    "start_time": "2023-12-17T09:36:15.124Z"
   },
   {
    "duration": 1769,
    "start_time": "2023-12-17T09:37:05.816Z"
   },
   {
    "duration": 112,
    "start_time": "2023-12-17T09:37:07.587Z"
   },
   {
    "duration": 9,
    "start_time": "2023-12-17T09:37:07.701Z"
   },
   {
    "duration": 10,
    "start_time": "2023-12-17T09:37:07.713Z"
   },
   {
    "duration": 16,
    "start_time": "2023-12-17T09:37:07.724Z"
   },
   {
    "duration": 6,
    "start_time": "2023-12-17T09:37:07.742Z"
   },
   {
    "duration": 9,
    "start_time": "2023-12-17T09:37:07.750Z"
   },
   {
    "duration": 184,
    "start_time": "2023-12-17T09:37:07.760Z"
   },
   {
    "duration": 5,
    "start_time": "2023-12-17T09:37:07.946Z"
   },
   {
    "duration": 9,
    "start_time": "2023-12-17T09:37:07.953Z"
   },
   {
    "duration": 154,
    "start_time": "2023-12-17T09:37:07.964Z"
   },
   {
    "duration": 4,
    "start_time": "2023-12-17T09:37:08.121Z"
   },
   {
    "duration": 7,
    "start_time": "2023-12-17T09:37:08.127Z"
   }
  ],
  "kernelspec": {
   "display_name": "Python 3 (ipykernel)",
   "language": "python",
   "name": "python3"
  },
  "language_info": {
   "codemirror_mode": {
    "name": "ipython",
    "version": 3
   },
   "file_extension": ".py",
   "mimetype": "text/x-python",
   "name": "python",
   "nbconvert_exporter": "python",
   "pygments_lexer": "ipython3",
   "version": "3.9.5"
  },
  "toc": {
   "base_numbering": 1,
   "nav_menu": {},
   "number_sections": true,
   "sideBar": true,
   "skip_h1_title": true,
   "title_cell": "Table of Contents",
   "title_sidebar": "Contents",
   "toc_cell": false,
   "toc_position": {},
   "toc_section_display": true,
   "toc_window_display": false
  }
 },
 "nbformat": 4,
 "nbformat_minor": 5
}
